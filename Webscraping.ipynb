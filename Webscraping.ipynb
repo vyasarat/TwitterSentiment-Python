{
 "cells": [
  {
   "cell_type": "code",
   "execution_count": 48,
   "metadata": {
    "collapsed": true
   },
   "outputs": [],
   "source": [
    "from bs4 import BeautifulSoup\n",
    "from urllib import request\n",
    "import pytz\n",
    "from datetime import datetime\n",
    "import pandas as pd\n",
    "import os"
   ]
  },
  {
   "cell_type": "code",
   "execution_count": 70,
   "metadata": {
    "collapsed": true
   },
   "outputs": [],
   "source": [
    "BASE_URL = \"http://www.espn.com/nfl/lines\"\n",
    "with request.urlopen(BASE_URL) as response:\n",
    "   html = response.read()   \n",
    "soup = BeautifulSoup(html, \"lxml\")  \n",
    "table = soup.find(\"table\", { \"class\" : \"tablehead\" })\n"
   ]
  },
  {
   "cell_type": "code",
   "execution_count": 71,
   "metadata": {
    "collapsed": true
   },
   "outputs": [],
   "source": [
    "tz = tz = pytz.timezone('America/New_York')"
   ]
  },
  {
   "cell_type": "code",
   "execution_count": 95,
   "metadata": {},
   "outputs": [],
   "source": [
    "outfile = open(\"Lines.txt\", \"a\")\n",
    "for row in table.findAll(\"tr\"):\n",
    "    cells = row.findAll(\"td\")\n",
    "    c0 = cells[0].find(text=True)\n",
    "    if len(cells) == 1 and len(c0) > 10:\n",
    "        game = c0\n",
    "        AwayTeam = game[0:game.index(' at')]\n",
    "        HomeTeam = game[game.index(' at')+4:game.index(' -')] \n",
    "        #print(HomeTeam,AwayTeam) \n",
    "    elif len(cells) == 9:\n",
    "        source = cells[0].find(text=True)\n",
    "        Line = cells[1].find(text=True)\n",
    "        #AwayTeam = cells[3].find(text=True)\n",
    "        #AwayTeam = AwayTeam[:AwayTeam.index(':')]\n",
    "        OverUnder = cells[5].find(text=True)\n",
    "        OverUnder = OverUnder[:OverUnder.index(\" \")]\n",
    "        \n",
    "        if float(Line) > 0:\n",
    "            Favorite = HomeTeam\n",
    "            Underdog = AwayTeam\n",
    "        elif float(Line):\n",
    "            Favorite = AwayTeam\n",
    "            Underdog = HomeTeam\n",
    "        else:\n",
    "            Favorite = 'Pickem'\n",
    "            HomeTeam = 'Pickem'\n",
    "    elif len(cells) == 2 and cells[1].find(text=True)[:3] == 'o: ':\n",
    "        #print (datetime.now(tz).isoformat(timespec='minutes'),\"|\",game,\"|\",source,\"|\",abs(float(Line)),\"|\",\n",
    "        #       HomeTeam,\"|\",OverUnder,\"|\",HomeTeam,\"|\",AwayTeam,\"|\",Favorite,\"|\",Underdog)\n",
    "        outfile.write(datetime.now(tz).isoformat(timespec='seconds') +\"\\t\"+ game +\"\\t\"+ source +\"\\t\"+ \n",
    "        str(abs(float(Line))) +\"\\t\"+ OverUnder + \"\\t\"+ HomeTeam + \"\\t\"+ AwayTeam +'\\t'+ Favorite +'\\t'+ Underdog + '\\n')\n",
    "outfile.close()"
   ]
  },
  {
   "cell_type": "code",
   "execution_count": null,
   "metadata": {
    "collapsed": true
   },
   "outputs": [],
   "source": []
  }
 ],
 "metadata": {
  "kernelspec": {
   "display_name": "Python 3",
   "language": "python",
   "name": "python3"
  },
  "language_info": {
   "codemirror_mode": {
    "name": "ipython",
    "version": 3
   },
   "file_extension": ".py",
   "mimetype": "text/x-python",
   "name": "python",
   "nbconvert_exporter": "python",
   "pygments_lexer": "ipython3",
   "version": "3.6.2"
  }
 },
 "nbformat": 4,
 "nbformat_minor": 2
}
